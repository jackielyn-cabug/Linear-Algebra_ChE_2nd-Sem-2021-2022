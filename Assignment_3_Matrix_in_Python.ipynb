{
  "nbformat": 4,
  "nbformat_minor": 0,
  "metadata": {
    "colab": {
      "name": "Assignment 3-Matrix in Python.ipynb",
      "provenance": [],
      "collapsed_sections": [],
      "authorship_tag": "ABX9TyMLMWNYwY3uuPfHVi/iXQpc",
      "include_colab_link": true
    },
    "kernelspec": {
      "name": "python3",
      "display_name": "Python 3"
    },
    "language_info": {
      "name": "python"
    }
  },
  "cells": [
    {
      "cell_type": "markdown",
      "metadata": {
        "id": "view-in-github",
        "colab_type": "text"
      },
      "source": [
        "<a href=\"https://colab.research.google.com/github/jackielyn-cabug/Linear-Algebra_ChE_2nd-Sem-2021-2022/blob/main/Assignment_3_Matrix_in_Python.ipynb\" target=\"_parent\"><img src=\"https://colab.research.google.com/assets/colab-badge.svg\" alt=\"Open In Colab\"/></a>"
      ]
    },
    {
      "cell_type": "markdown",
      "source": [
        "### Task 1\n",
        "\n",
        "Create a function named mat_desc() that througouhly describes a matrix, it should:\n",
        "\n",
        "* Displays the shape, size, and rank of the matrix.\n",
        "* Displays whether the matrix is square or non-square.\n",
        "* Displays whether the matrix is an empty matrix.\n",
        "* Displays if the matrix is an identity, ones, or zeros matrix\n",
        "* Use 5 sample matrices in which their shapes are not lower than (3,3) . In your methodology, create a flowchart discuss the functions and methods you have done. Present your results in the results section showing the description of each matrix you have declared."
      ],
      "metadata": {
        "id": "1wZDVttEuhT4"
      }
    },
    {
      "cell_type": "code",
      "execution_count": null,
      "metadata": {
        "id": "wuAYngvuoNrr"
      },
      "outputs": [],
      "source": [
        "## Function Area\n",
        "import numpy as np\n",
        "import matplotlib.pyplot as plt\n",
        "import scipy.linalg as la\n",
        "from numpy.matrixlib.defmatrix import matrix\n",
        "%matplotlib inline"
      ]
    },
    {
      "cell_type": "code",
      "source": [
        "## Matrices Example\n",
        "A = np.array([\n",
        "    [1,2,3],\n",
        "    [4,5,6],\n",
        "    [7,8,9]          \n",
        "])\n",
        "B = np.array([\n",
        "    [9,4,3],\n",
        "    [8,5,2],\n",
        "    [7,6,1]          \n",
        "])\n",
        "C = np.array([\n",
        "    [7,4,1,7,4],\n",
        "    [8,5,2,8,5],\n",
        "    [9,6,3,9,6]          \n",
        "])\n",
        "D = np.array([\n",
        "    [9,8,7],\n",
        "    [6,5,4],\n",
        "    [3,2,1],\n",
        "    [9,8,7]          \n",
        "])\n",
        "E = np.array([\n",
        "    [1,3,6],\n",
        "    [2,5,8],\n",
        "    [4,7,9],\n",
        "    [1,3,6],\n",
        "])"
      ],
      "metadata": {
        "id": "9bW4uu0UoSVw"
      },
      "execution_count": null,
      "outputs": []
    },
    {
      "cell_type": "code",
      "source": [
        "## Matrix Declarations\n",
        "def mat_desc(matrix):\n",
        "          try:\n",
        "              is_empty = True if (matrix.size == 0) else False  #this command is to determine if the matrix is empty or not \n",
        "              is_square = True if matrix.shape[0] == matrix.shape[1] else False          #this command is to determine if the matrix square or non-square\n",
        "              print(f'Matrix:\\n{matrix}\\n\\nShape:\\t{matrix.shape}\\nRank:\\t{matrix.ndim}\\nSquare Matrix: {is_square}\\nEmpty Matrix: {is_empty}\\n')\n",
        "          except TypeError:\n",
        "              print(\"Empty Matrix\")   "
      ],
      "metadata": {
        "id": "TsGoE7K3ocG5"
      },
      "execution_count": null,
      "outputs": []
    },
    {
      "cell_type": "code",
      "source": [
        "## Test Areas\n",
        "mat_desc(A) # type the desired matrices listed above, if not just type \"matrix\""
      ],
      "metadata": {
        "id": "GNwxeWT_ofhF",
        "colab": {
          "base_uri": "https://localhost:8080/"
        },
        "outputId": "338c8cdb-4ca8-4202-a22a-582aecfe1751"
      },
      "execution_count": 21,
      "outputs": [
        {
          "output_type": "stream",
          "name": "stdout",
          "text": [
            "Matrix:\n",
            "[[1 2 3]\n",
            " [4 5 6]\n",
            " [7 8 9]]\n",
            "\n",
            "Shape:\t(3, 3)\n",
            "Rank:\t2\n",
            "Square Matrix: True\n",
            "Empty Matrix: False\n",
            "\n"
          ]
        }
      ]
    },
    {
      "cell_type": "markdown",
      "source": [
        "### Task 2\n",
        "Create a function named mat_operations() that takes in two matrices a input parameters it should:\n",
        "\n",
        "* Determines if the matrices are viable for operation and returns your own error message if they are not viable.\n",
        "* Returns the sum of the matrices.\n",
        "* Returns the differen of the matrices.\n",
        "* Returns the element-wise multiplication of the matrices.\n",
        "* Returns the element-wise division of the matrices.\n",
        "* Use 5 sample matrices in which their shapes are not lower than (3,3) . In your methodology, create a flowchart discuss the functions and methods you have done. Present your results in the results section showing the description of each matrix you have declared.d."
      ],
      "metadata": {
        "id": "2r8brE2yumkN"
      }
    },
    {
      "cell_type": "code",
      "source": [
        "## Addition Operation\n",
        "def mat_operations(addition):\n",
        "    try:\n",
        "      print(\"Sum of Matrices : \")\n",
        "      ADD = A+B        # type the desired matrices and it listed above which A, B, C, D, and E.\n",
        "      return (ADD)\n",
        "    except ValueError:\n",
        "      print(\"The matrices are not viable for operation.\")\n",
        "mat_operations(sum)"
      ],
      "metadata": {
        "id": "WgNtADzSoiCO",
        "colab": {
          "base_uri": "https://localhost:8080/"
        },
        "outputId": "1cbc13dc-960a-4a38-928c-e6659a5f9dc2"
      },
      "execution_count": 22,
      "outputs": [
        {
          "output_type": "stream",
          "name": "stdout",
          "text": [
            "Sum of Matrices : \n"
          ]
        },
        {
          "output_type": "execute_result",
          "data": {
            "text/plain": [
              "array([[10,  6,  6],\n",
              "       [12, 10,  8],\n",
              "       [14, 14, 10]])"
            ]
          },
          "metadata": {},
          "execution_count": 22
        }
      ]
    },
    {
      "cell_type": "code",
      "source": [
        "## Subtraction Operation\n",
        "def mat_operation(subtraction):\n",
        "  try:\n",
        "    print(\"Difference of Matrix : \")\n",
        "    SUB = A-B        # type the desired matrices and it listed above which A, B, C, D, and E.\n",
        "    return (SUB)\n",
        "  except ValueError:\n",
        "    print(\"The matrices are not viable for operation.\")\n",
        "mat_operation(sum)"
      ],
      "metadata": {
        "id": "J8kh7rHKrWl2",
        "colab": {
          "base_uri": "https://localhost:8080/"
        },
        "outputId": "fa7bcd24-971c-43b2-b782-693d83e822ea"
      },
      "execution_count": 23,
      "outputs": [
        {
          "output_type": "stream",
          "name": "stdout",
          "text": [
            "Difference of Matrix : \n"
          ]
        },
        {
          "output_type": "execute_result",
          "data": {
            "text/plain": [
              "array([[-8, -2,  0],\n",
              "       [-4,  0,  4],\n",
              "       [ 0,  2,  8]])"
            ]
          },
          "metadata": {},
          "execution_count": 23
        }
      ]
    },
    {
      "cell_type": "code",
      "source": [
        "## Element-Wise Multiplication Operation\n",
        "def mat_operation(element_wise_multiplication):\n",
        "  try:\n",
        "    print(\"Element-Wise Multiplication of Matrix : \")\n",
        "    MULT = np.multiply(A,B)      # type the desired matrices and it listed above which A, B, C, D, and E.\n",
        "    return (MULT)\n",
        "  except ValueError:\n",
        "    print(\"The matrices are not viable for operation.\")\n",
        "mat_operation(sum)"
      ],
      "metadata": {
        "id": "ETYeqDGlsRfo",
        "colab": {
          "base_uri": "https://localhost:8080/"
        },
        "outputId": "525e6619-5308-4de3-8b57-e2b606aa9f7b"
      },
      "execution_count": 24,
      "outputs": [
        {
          "output_type": "stream",
          "name": "stdout",
          "text": [
            "Element-Wise Multiplication of Matrix : \n"
          ]
        },
        {
          "output_type": "execute_result",
          "data": {
            "text/plain": [
              "array([[ 9,  8,  9],\n",
              "       [32, 25, 12],\n",
              "       [49, 48,  9]])"
            ]
          },
          "metadata": {},
          "execution_count": 24
        }
      ]
    },
    {
      "cell_type": "code",
      "source": [
        "## Element-Wise Division Operation\n",
        "def mat_operation(element_wise_division):\n",
        "  try:\n",
        "    print(\"Element-Wise Division of Matrix : \")\n",
        "    DIV = np.divide(A,B)  # type the desired matrices and it listed above which A, B, C, D, and E.\n",
        "    return (DIV)\n",
        "  except ValueError:\n",
        "    print(\"The matrices are not viable for operation.\")\n",
        "mat_operation(sum)"
      ],
      "metadata": {
        "id": "suRTeSAMtGDJ",
        "colab": {
          "base_uri": "https://localhost:8080/"
        },
        "outputId": "d23aeabd-3fd6-4d21-ad76-78fb42a67d0e"
      },
      "execution_count": 25,
      "outputs": [
        {
          "output_type": "stream",
          "name": "stdout",
          "text": [
            "Element-Wise Division of Matrix : \n"
          ]
        },
        {
          "output_type": "execute_result",
          "data": {
            "text/plain": [
              "array([[0.11111111, 0.5       , 1.        ],\n",
              "       [0.5       , 1.        , 3.        ],\n",
              "       [1.        , 1.33333333, 9.        ]])"
            ]
          },
          "metadata": {},
          "execution_count": 25
        }
      ]
    }
  ]
}