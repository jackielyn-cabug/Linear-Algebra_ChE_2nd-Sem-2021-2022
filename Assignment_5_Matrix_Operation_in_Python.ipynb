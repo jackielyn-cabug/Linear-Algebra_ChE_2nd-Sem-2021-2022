{
  "nbformat": 4,
  "nbformat_minor": 0,
  "metadata": {
    "colab": {
      "name": "Assignment_5_Matrix_Operation_in_Python.ipynb",
      "provenance": [],
      "collapsed_sections": [],
      "authorship_tag": "ABX9TyN4Rw0zuqngyl2rUrekjjMb",
      "include_colab_link": true
    },
    "kernelspec": {
      "name": "python3",
      "display_name": "Python 3"
    },
    "language_info": {
      "name": "python"
    }
  },
  "cells": [
    {
      "cell_type": "markdown",
      "metadata": {
        "id": "view-in-github",
        "colab_type": "text"
      },
      "source": [
        "<a href=\"https://colab.research.google.com/github/jackielyn-cabug/Linear-Algebra_ChE_2nd-Sem-2021-2022/blob/main/Assignment_5_Matrix_Operation_in_Python.ipynb\" target=\"_parent\"><img src=\"https://colab.research.google.com/assets/colab-badge.svg\" alt=\"Open In Colab\"/></a>"
      ]
    },
    {
      "cell_type": "markdown",
      "source": [
        "Prove and implement the remaining 6 matrix multiplication properties. You may create your own matrices in which their shapes should not be lower than  (3,3) . In your methodology, create individual flowcharts for each property and discuss the property you would then present your proofs or validity of your implementation in the results section by comparing your result to present functions from NumPy."
      ],
      "metadata": {
        "id": "HPqdrRO4oOFo"
      }
    },
    {
      "cell_type": "code",
      "source": [
        "import numpy as np\n",
        "import matplotlib.pyplot as plt\n",
        "import scipy.linalg as la\n",
        "%matplotlib inline"
      ],
      "metadata": {
        "id": "2FJ7LmiFscZU"
      },
      "execution_count": 1,
      "outputs": []
    },
    {
      "cell_type": "code",
      "source": [
        "A = np.array([\n",
        "    [9,8,1],\n",
        "    [4,7,1],\n",
        "    [3,5,1]\n",
        "])\n",
        "B = np.array([\n",
        "    [9,11,6],\n",
        "    [4,1,10],\n",
        "    [5,7,8]\n",
        "])\n",
        "C = np.array([\n",
        "    [12,15,14],\n",
        "    [10,17,11],\n",
        "    [11,10,11]\n",
        "])\n",
        "D = np.array([\n",
        "    [12,15],\n",
        "    [10,17],\n",
        "    [11,12],\n",
        "])\n"
      ],
      "metadata": {
        "id": "mXccfqRGroCL"
      },
      "execution_count": 56,
      "outputs": []
    },
    {
      "cell_type": "markdown",
      "source": [
        "## 6 MATRIX MULTIPLICATION PROPERTIES"
      ],
      "metadata": {
        "id": "k7n81-6J69ML"
      }
    },
    {
      "cell_type": "markdown",
      "source": [
        "### **Dimension Property**\n",
        "##### In matrix multiplication, the product of m × n matrix and n×a matrix is the m× a matrix.\n"
      ],
      "metadata": {
        "id": "OUjcFY0gp2j3"
      }
    },
    {
      "cell_type": "code",
      "source": [
        "(A.T * B).T"
      ],
      "metadata": {
        "colab": {
          "base_uri": "https://localhost:8080/"
        },
        "id": "ceGf0JAmBlj2",
        "outputId": "1711fc48-c881-4e3c-c717-994614a3d2c0"
      },
      "execution_count": 61,
      "outputs": [
        {
          "output_type": "execute_result",
          "data": {
            "text/plain": [
              "array([[81, 32,  5],\n",
              "       [44,  7,  7],\n",
              "       [18, 50,  8]])"
            ]
          },
          "metadata": {},
          "execution_count": 61
        }
      ]
    },
    {
      "cell_type": "code",
      "source": [
        "np.multiply(A,B)"
      ],
      "metadata": {
        "colab": {
          "base_uri": "https://localhost:8080/"
        },
        "id": "oEf2OoZE7oMU",
        "outputId": "4b448a69-653a-4e99-9a96-c5de87a4c7fd"
      },
      "execution_count": 62,
      "outputs": [
        {
          "output_type": "execute_result",
          "data": {
            "text/plain": [
              "array([[81, 88,  6],\n",
              "       [16,  7, 10],\n",
              "       [15, 35,  8]])"
            ]
          },
          "metadata": {},
          "execution_count": 62
        }
      ]
    },
    {
      "cell_type": "markdown",
      "source": [
        "### **Commutative Property**\n",
        "##### The matrix multiplication is not commutative.Assume that, if A and B are the two 2×2 matrices (AB ≠ BA),but, when the matrices are multiplied in this order, will be 3×3, not 2×2. \n",
        "## A × B = B × A"
      ],
      "metadata": {
        "id": "eiVrNZ0gqqO9"
      }
    },
    {
      "cell_type": "code",
      "source": [
        "CP1 = A*B\n",
        "CP1"
      ],
      "metadata": {
        "colab": {
          "base_uri": "https://localhost:8080/"
        },
        "id": "XblvnR8Dq0Ez",
        "outputId": "6056f933-e9c8-4bba-c99c-49a1c331a697"
      },
      "execution_count": 63,
      "outputs": [
        {
          "output_type": "execute_result",
          "data": {
            "text/plain": [
              "array([[81, 88,  6],\n",
              "       [16,  7, 10],\n",
              "       [15, 35,  8]])"
            ]
          },
          "metadata": {},
          "execution_count": 63
        }
      ]
    },
    {
      "cell_type": "code",
      "source": [
        "CP2 = B*A\n",
        "CP2"
      ],
      "metadata": {
        "colab": {
          "base_uri": "https://localhost:8080/"
        },
        "id": "G3lad6D5s1V3",
        "outputId": "5ad993a2-3f3a-4cd9-cdec-3069d8b39f27"
      },
      "execution_count": 64,
      "outputs": [
        {
          "output_type": "execute_result",
          "data": {
            "text/plain": [
              "array([[81, 88,  6],\n",
              "       [16,  7, 10],\n",
              "       [15, 35,  8]])"
            ]
          },
          "metadata": {},
          "execution_count": 64
        }
      ]
    },
    {
      "cell_type": "code",
      "source": [
        "CP1 == CP2"
      ],
      "metadata": {
        "colab": {
          "base_uri": "https://localhost:8080/"
        },
        "id": "qbe2Mv0Kyr0f",
        "outputId": "d7c84b93-d7c8-4ad8-c54e-21569eac9dba"
      },
      "execution_count": 65,
      "outputs": [
        {
          "output_type": "execute_result",
          "data": {
            "text/plain": [
              "array([[ True,  True,  True],\n",
              "       [ True,  True,  True],\n",
              "       [ True,  True,  True]])"
            ]
          },
          "metadata": {},
          "execution_count": 65
        }
      ]
    },
    {
      "cell_type": "code",
      "source": [
        "np.array_equal(CP1, CP2)"
      ],
      "metadata": {
        "colab": {
          "base_uri": "https://localhost:8080/"
        },
        "id": "cHd_ShaJxg8_",
        "outputId": "abbd70a9-fdfd-4d2c-9992-7234e581cb9a"
      },
      "execution_count": 66,
      "outputs": [
        {
          "output_type": "execute_result",
          "data": {
            "text/plain": [
              "True"
            ]
          },
          "metadata": {},
          "execution_count": 66
        }
      ]
    },
    {
      "cell_type": "markdown",
      "source": [
        "### **Associative Property**\n",
        "##### If A, B and C are the three matrices, the associative property of matrix multiplication states that,\n",
        "## A × (B × C)  = (A × B) × C \n"
      ],
      "metadata": {
        "id": "lO0Of4D_tyaZ"
      }
    },
    {
      "cell_type": "code",
      "source": [
        "AP1 = A*(B*C)\n",
        "AP1"
      ],
      "metadata": {
        "colab": {
          "base_uri": "https://localhost:8080/"
        },
        "id": "T6IuQfCDrHTL",
        "outputId": "7105b7e7-5fd3-481c-fb46-186d0c210ba7"
      },
      "execution_count": 67,
      "outputs": [
        {
          "output_type": "execute_result",
          "data": {
            "text/plain": [
              "array([[ 972, 1320,   84],\n",
              "       [ 160,  119,  110],\n",
              "       [ 165,  350,   88]])"
            ]
          },
          "metadata": {},
          "execution_count": 67
        }
      ]
    },
    {
      "cell_type": "code",
      "source": [
        "AP2 = (A*B)*C\n",
        "AP2"
      ],
      "metadata": {
        "colab": {
          "base_uri": "https://localhost:8080/"
        },
        "id": "7B5Ye_hXrSwx",
        "outputId": "39ccbd9d-bd8a-45a5-a1c4-0dfffcd26a5b"
      },
      "execution_count": 68,
      "outputs": [
        {
          "output_type": "execute_result",
          "data": {
            "text/plain": [
              "array([[ 972, 1320,   84],\n",
              "       [ 160,  119,  110],\n",
              "       [ 165,  350,   88]])"
            ]
          },
          "metadata": {},
          "execution_count": 68
        }
      ]
    },
    {
      "cell_type": "code",
      "source": [
        "AP1 == AP2"
      ],
      "metadata": {
        "colab": {
          "base_uri": "https://localhost:8080/"
        },
        "id": "l3YopC-BraDR",
        "outputId": "3aee3886-38ee-4ffb-92f0-b90ccd21a183"
      },
      "execution_count": 69,
      "outputs": [
        {
          "output_type": "execute_result",
          "data": {
            "text/plain": [
              "array([[ True,  True,  True],\n",
              "       [ True,  True,  True],\n",
              "       [ True,  True,  True]])"
            ]
          },
          "metadata": {},
          "execution_count": 69
        }
      ]
    },
    {
      "cell_type": "code",
      "source": [
        "np.array_equal(AP1, AP2)"
      ],
      "metadata": {
        "colab": {
          "base_uri": "https://localhost:8080/"
        },
        "id": "ko0tArseraLT",
        "outputId": "10e699da-5acd-472d-8869-374a15c0a3de"
      },
      "execution_count": 70,
      "outputs": [
        {
          "output_type": "execute_result",
          "data": {
            "text/plain": [
              "True"
            ]
          },
          "metadata": {},
          "execution_count": 70
        }
      ]
    },
    {
      "cell_type": "markdown",
      "source": [
        "### **Distributive Property**\n",
        "##### Its distributive qualities come into the equation when combined with another arithmetic operation, such as addition or subtraction. In other terms, we use the distributive property to simplify issues when adding or subtracting matrices is a factor in the matrix multiplication. So the operation would be:\n",
        "## A × (B + C)  = (A × B) + (A × C)"
      ],
      "metadata": {
        "id": "IfuYOokKulyK"
      }
    },
    {
      "cell_type": "code",
      "source": [
        "DP1 = A*(B+C)\n",
        "DP1"
      ],
      "metadata": {
        "colab": {
          "base_uri": "https://localhost:8080/"
        },
        "id": "p8KWy49-rfai",
        "outputId": "59baeb7f-9061-4028-a744-de3066ae89c8"
      },
      "execution_count": 71,
      "outputs": [
        {
          "output_type": "execute_result",
          "data": {
            "text/plain": [
              "array([[189, 208,  20],\n",
              "       [ 56, 126,  21],\n",
              "       [ 48,  85,  19]])"
            ]
          },
          "metadata": {},
          "execution_count": 71
        }
      ]
    },
    {
      "cell_type": "code",
      "source": [
        "DP2 = (A*B)+(A*C)\n",
        "DP2"
      ],
      "metadata": {
        "colab": {
          "base_uri": "https://localhost:8080/"
        },
        "id": "_IGUu8EVrfjM",
        "outputId": "de8eedcb-8872-490d-edf7-1ed82b0c1a1b"
      },
      "execution_count": 72,
      "outputs": [
        {
          "output_type": "execute_result",
          "data": {
            "text/plain": [
              "array([[189, 208,  20],\n",
              "       [ 56, 126,  21],\n",
              "       [ 48,  85,  19]])"
            ]
          },
          "metadata": {},
          "execution_count": 72
        }
      ]
    },
    {
      "cell_type": "code",
      "source": [
        "DP1 == DP2"
      ],
      "metadata": {
        "id": "CzDPbCZnrzgM",
        "colab": {
          "base_uri": "https://localhost:8080/"
        },
        "outputId": "9763b50d-61e3-468c-f5e5-21220c2b991f"
      },
      "execution_count": 73,
      "outputs": [
        {
          "output_type": "execute_result",
          "data": {
            "text/plain": [
              "array([[ True,  True,  True],\n",
              "       [ True,  True,  True],\n",
              "       [ True,  True,  True]])"
            ]
          },
          "metadata": {},
          "execution_count": 73
        }
      ]
    },
    {
      "cell_type": "code",
      "source": [
        "np.array_equal(DP1, DP2)"
      ],
      "metadata": {
        "colab": {
          "base_uri": "https://localhost:8080/"
        },
        "id": "nFSsc27Erzoj",
        "outputId": "4c64a478-301a-44ae-a205-b57c73ac43e2"
      },
      "execution_count": 74,
      "outputs": [
        {
          "output_type": "execute_result",
          "data": {
            "text/plain": [
              "True"
            ]
          },
          "metadata": {},
          "execution_count": 74
        }
      ]
    },
    {
      "cell_type": "markdown",
      "source": [
        "### **Multiplication by Zero**\n",
        "##### If a matrix is multiplied by a zero matrix, the result matrix is a zero matrix.\n",
        "## A × 0 = 0 × A = 0"
      ],
      "metadata": {
        "id": "wPAp6v20u8tJ"
      }
    },
    {
      "cell_type": "code",
      "source": [
        "MBZ1 = A*(np.zeros(3))\n",
        "MBZ1"
      ],
      "metadata": {
        "colab": {
          "base_uri": "https://localhost:8080/"
        },
        "id": "5B6sMshor9gL",
        "outputId": "d3054ccf-a9c9-4be0-bdf8-1bed6d8f11f0"
      },
      "execution_count": 75,
      "outputs": [
        {
          "output_type": "execute_result",
          "data": {
            "text/plain": [
              "array([[0., 0., 0.],\n",
              "       [0., 0., 0.],\n",
              "       [0., 0., 0.]])"
            ]
          },
          "metadata": {},
          "execution_count": 75
        }
      ]
    },
    {
      "cell_type": "code",
      "source": [
        "MBZ2 = (np.zeros(3))*A\n",
        "MBZ2"
      ],
      "metadata": {
        "colab": {
          "base_uri": "https://localhost:8080/"
        },
        "id": "DGsUnYuw2pyi",
        "outputId": "987fe6ff-631f-4078-dca9-7ca33264e005"
      },
      "execution_count": 76,
      "outputs": [
        {
          "output_type": "execute_result",
          "data": {
            "text/plain": [
              "array([[0., 0., 0.],\n",
              "       [0., 0., 0.],\n",
              "       [0., 0., 0.]])"
            ]
          },
          "metadata": {},
          "execution_count": 76
        }
      ]
    },
    {
      "cell_type": "code",
      "source": [
        "MBZ1 == MBZ2 "
      ],
      "metadata": {
        "colab": {
          "base_uri": "https://localhost:8080/"
        },
        "id": "9fTNnFP425Xp",
        "outputId": "c13924e1-1c0e-4276-bd13-18536829fe1d"
      },
      "execution_count": 77,
      "outputs": [
        {
          "output_type": "execute_result",
          "data": {
            "text/plain": [
              "array([[ True,  True,  True],\n",
              "       [ True,  True,  True],\n",
              "       [ True,  True,  True]])"
            ]
          },
          "metadata": {},
          "execution_count": 77
        }
      ]
    },
    {
      "cell_type": "code",
      "source": [
        "np.array_equal(MBZ1, MBZ2)"
      ],
      "metadata": {
        "colab": {
          "base_uri": "https://localhost:8080/"
        },
        "id": "9bazbCyf3EG5",
        "outputId": "17344c32-91b8-47dd-f1b5-e20a10e7e1e3"
      },
      "execution_count": 78,
      "outputs": [
        {
          "output_type": "execute_result",
          "data": {
            "text/plain": [
              "True"
            ]
          },
          "metadata": {},
          "execution_count": 78
        }
      ]
    },
    {
      "cell_type": "markdown",
      "source": [
        "### **Multiplicative Identity of Integer**\n",
        "##### Similar to multiplying a matrix by the zero matrix, multiplying a matrix by the identity matrix yields the same result: the original matrix being multiplied by the identity matrix.In other words, multiplying a non-identity matrix by an identity matrix always gives the non-identity matrix, as follows:\n",
        "## A × 1 = 1 × A = A\n"
      ],
      "metadata": {
        "id": "BJo938KRvZCi"
      }
    },
    {
      "cell_type": "code",
      "source": [
        "MIBI1 = A*(np.ones(3))\n",
        "MIBI1"
      ],
      "metadata": {
        "id": "h5u59Ty_v2et",
        "colab": {
          "base_uri": "https://localhost:8080/"
        },
        "outputId": "98ca0071-610f-48d4-eada-4df3487162ef"
      },
      "execution_count": 79,
      "outputs": [
        {
          "output_type": "execute_result",
          "data": {
            "text/plain": [
              "array([[9., 8., 1.],\n",
              "       [4., 7., 1.],\n",
              "       [3., 5., 1.]])"
            ]
          },
          "metadata": {},
          "execution_count": 79
        }
      ]
    },
    {
      "cell_type": "code",
      "source": [
        "MIBI2 = (np.ones(3))*A\n",
        "MIBI2"
      ],
      "metadata": {
        "colab": {
          "base_uri": "https://localhost:8080/"
        },
        "id": "0AyRaQi93S7L",
        "outputId": "79ccaed4-a076-4aa2-d0fb-7657eea0fb8d"
      },
      "execution_count": 80,
      "outputs": [
        {
          "output_type": "execute_result",
          "data": {
            "text/plain": [
              "array([[9., 8., 1.],\n",
              "       [4., 7., 1.],\n",
              "       [3., 5., 1.]])"
            ]
          },
          "metadata": {},
          "execution_count": 80
        }
      ]
    },
    {
      "cell_type": "code",
      "source": [
        "MIBI1 == MIBI2"
      ],
      "metadata": {
        "colab": {
          "base_uri": "https://localhost:8080/"
        },
        "id": "vUofMcCO3TBi",
        "outputId": "893abab1-ff91-499c-d1dc-fcec06d21ee1"
      },
      "execution_count": 81,
      "outputs": [
        {
          "output_type": "execute_result",
          "data": {
            "text/plain": [
              "array([[ True,  True,  True],\n",
              "       [ True,  True,  True],\n",
              "       [ True,  True,  True]])"
            ]
          },
          "metadata": {},
          "execution_count": 81
        }
      ]
    },
    {
      "cell_type": "code",
      "source": [
        "np.array_equal(MIBI1, MIBI2)"
      ],
      "metadata": {
        "colab": {
          "base_uri": "https://localhost:8080/"
        },
        "id": "A-vo8uDO3TOM",
        "outputId": "6dacce05-bd54-4f0d-f4d7-3831acfea624"
      },
      "execution_count": 82,
      "outputs": [
        {
          "output_type": "execute_result",
          "data": {
            "text/plain": [
              "True"
            ]
          },
          "metadata": {},
          "execution_count": 82
        }
      ]
    }
  ]
}