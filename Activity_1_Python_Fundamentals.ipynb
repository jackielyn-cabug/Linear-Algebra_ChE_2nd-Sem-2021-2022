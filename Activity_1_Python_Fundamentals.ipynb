{
  "nbformat": 4,
  "nbformat_minor": 0,
  "metadata": {
    "colab": {
      "name": "Activity 1-Python Fundamentals",
      "provenance": [],
      "collapsed_sections": [],
      "authorship_tag": "ABX9TyN8KTvHLpp1UHR7CeS+93rZ",
      "include_colab_link": true
    },
    "kernelspec": {
      "name": "python3",
      "display_name": "Python 3"
    },
    "language_info": {
      "name": "python"
    }
  },
  "cells": [
    {
      "cell_type": "markdown",
      "metadata": {
        "id": "view-in-github",
        "colab_type": "text"
      },
      "source": [
        "<a href=\"https://colab.research.google.com/github/jackielyn-cabug/Linear-Algebra_ChE_2nd-Sem-2021-2022/blob/main/Activity_1_Python_Fundamentals.ipynb\" target=\"_parent\"><img src=\"https://colab.research.google.com/assets/colab-badge.svg\" alt=\"Open In Colab\"/></a>"
      ]
    },
    {
      "cell_type": "markdown",
      "source": [
        "#Semetral Grade Calculator\n",
        "A semestral grade calculator allowed student to type/input their name, course, prelim grade, midterm grade, and final grade.\n"
      ],
      "metadata": {
        "id": "_yIJeDVXrMO0"
      }
    },
    {
      "cell_type": "code",
      "execution_count": null,
      "metadata": {
        "id": "2POzB_sipm2M"
      },
      "outputs": [],
      "source": [
        "###The code given below is for inputting the name and course.\n",
        "\n",
        "N=input(\"Name: \")\n",
        "CN=input(\"Course: \")\n",
        "\n",
        "\n",
        "###The code given below is for inputting the prelim, midterm, and final grade in decimal or whole numbers. \n",
        "PG=float(input(\"Prelim Grade: \"))\n",
        "MG=float(input(\"Midterm Grade: \"))\n",
        "FG=float(input(\"Final Grade: \"))"
      ]
    },
    {
      "cell_type": "code",
      "source": [
        "###The operation below is the standard computation of Adamson University for Semetral Grade.\n",
        "###Using multiplication and addition operator\n",
        "\n",
        "SEM_GRADE=(0.3)*(PG)+(0.3)*(MG)+(0.4)*(FG)\n",
        "\n",
        "\n",
        "###The code given below is for converting the value in 2 decimal place. \n",
        "\n",
        "Value=SEM_GRADE\n",
        "format_float=\"{:.2f}\".format(Value)\n",
        "print(\"Semestral Grade: \", end='')   \n",
        "print(format_float)\n",
        "\n",
        "\n",
        "###The code given is an internal module for importing and display an image.\n",
        "\n",
        "from IPython.core.display import Image, display\n",
        "\n",
        "happy_url=\"https://www.pinclipart.com/picdir/big/549-5498603_free-emoji-clipart-transparent-background-transparent-background-emoji.png\"\n",
        "laughing_url=\"https://www.pinclipart.com/picdir/big/531-5318670_crying-laughing-emoji-png-image-laughing-emoji-png.png\"\n",
        "sad_url=\"https://www.pinclipart.com/picdir/big/28-287916_download-free-printable-clipart-and-coloring-pages-sad.png\"\n",
        "\n",
        "\n",
        "##Condition Statement for displaying an image\n",
        "\n",
        "PASSING_GRADE = 70\n",
        "\n",
        "if(SEM_GRADE>PASSING_GRADE):\n",
        "    display(Image(happy_url,width=250, height=250))\n",
        "\n",
        "elif(SEM_GRADE==PASSING_GRADE):\n",
        "    display(Image(laughing_url,width=250, height=250))\n",
        "\n",
        "else:\n",
        "     display(Image(sad_url,width=250, height=250))"
      ],
      "metadata": {
        "id": "9mNNaxSDqa-V"
      },
      "execution_count": null,
      "outputs": []
    }
  ]
}