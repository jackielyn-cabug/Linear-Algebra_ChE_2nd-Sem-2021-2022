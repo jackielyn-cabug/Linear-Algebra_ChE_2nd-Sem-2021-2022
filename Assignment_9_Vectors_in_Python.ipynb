{
  "nbformat": 4,
  "nbformat_minor": 0,
  "metadata": {
    "colab": {
      "name": "Assignment 9-Vectors in Python",
      "provenance": [],
      "collapsed_sections": [],
      "authorship_tag": "ABX9TyNH2KEmQL1nvNWB+wBxdsz3",
      "include_colab_link": true
    },
    "kernelspec": {
      "name": "python3",
      "display_name": "Python 3"
    },
    "language_info": {
      "name": "python"
    }
  },
  "cells": [
    {
      "cell_type": "markdown",
      "metadata": {
        "id": "view-in-github",
        "colab_type": "text"
      },
      "source": [
        "<a href=\"https://colab.research.google.com/github/jackielyn-cabug/Linear-Algebra_ChE_2nd-Sem-2021-2022/blob/main/Assignment_9_Vectors_in_Python.ipynb\" target=\"_parent\"><img src=\"https://colab.research.google.com/assets/colab-badge.svg\" alt=\"Open In Colab\"/></a>"
      ]
    },
    {
      "cell_type": "markdown",
      "source": [
        "##OPERATIONS WITH VECTORS\n",
        "##### Implementation of subtraction, multiplication, and division with vectors $A$ and $B$!"
      ],
      "metadata": {
        "id": "SL2xQwb06M89"
      }
    },
    {
      "cell_type": "markdown",
      "source": [
        ""
      ],
      "metadata": {
        "id": "JI4EXr6T8VwB"
      }
    },
    {
      "cell_type": "code",
      "execution_count": 82,
      "metadata": {
        "id": "M_gOqr6u5oJ7"
      },
      "outputs": [],
      "source": [
        "## Import libraries\n",
        "## 'np' here is short-hand name of the library (numpy) or a nickname.\n",
        "import numpy as np \n",
        "import matplotlib.pyplot as plt\n",
        "import matplotlib\n",
        "%matplotlib inline"
      ]
    },
    {
      "cell_type": "code",
      "source": [
        "#Vectors.\n",
        "A = np.array([2,-8])\n",
        "B = np.array([-9,10])\n",
        "C = np.array([[-6],\n",
        "             [3]])\n",
        "D = np.array([[4],\n",
        "             [1]])"
      ],
      "metadata": {
        "id": "FkokH87f6gm9"
      },
      "execution_count": 83,
      "outputs": []
    },
    {
      "cell_type": "markdown",
      "source": [
        "###Substration"
      ],
      "metadata": {
        "id": "R_qB4L7W644L"
      }
    },
    {
      "cell_type": "code",
      "source": [
        "R1 = np.subtract(A, B)          #This is the method that use the numpy library.\n",
        "print(\"R1:{}\".format(R1))\n",
        "R2 = np.subtract(C, D)\n",
        "print(\"R2:{}\".format(R2))"
      ],
      "metadata": {
        "colab": {
          "base_uri": "https://localhost:8080/"
        },
        "id": "3E63hz4q6twr",
        "outputId": "a4063987-c24a-4fd1-e358-365fe72d8899"
      },
      "execution_count": 84,
      "outputs": [
        {
          "output_type": "stream",
          "name": "stdout",
          "text": [
            "R1:[ 11 -18]\n",
            "R2:[[-10]\n",
            " [  2]]\n"
          ]
        }
      ]
    },
    {
      "cell_type": "code",
      "source": [
        "R3 = A - B                     #This is the explicit method, \n",
        "print(\"R3:{}\".format(R3))      #as Python does a value-reference in order \n",
        "R4 = C - D                     #to determine that these variables require array operations.\n",
        "print(\"R4:{}\".format(R4))"
      ],
      "metadata": {
        "colab": {
          "base_uri": "https://localhost:8080/"
        },
        "id": "5VDGyuv7c8rm",
        "outputId": "82683c05-4b9f-49b3-aa48-a5d655c1aee7"
      },
      "execution_count": 85,
      "outputs": [
        {
          "output_type": "stream",
          "name": "stdout",
          "text": [
            "R3:[ 11 -18]\n",
            "R4:[[-10]\n",
            " [  2]]\n"
          ]
        }
      ]
    },
    {
      "cell_type": "markdown",
      "source": [
        "###Multiplication"
      ],
      "metadata": {
        "id": "3N8F5QqK69U9"
      }
    },
    {
      "cell_type": "code",
      "source": [
        "R5 = np.multiply(A, B)        #This is the method that use the numpy library.\n",
        "print(\"R5:{}\".format(R5))\n",
        "R6 = np.multiply(C, D) \n",
        "print(\"R6:{}\".format(R6))"
      ],
      "metadata": {
        "id": "mydKQPWv7BsG",
        "colab": {
          "base_uri": "https://localhost:8080/"
        },
        "outputId": "8c02a251-1b80-4a4a-8ad0-ec94421ddc23"
      },
      "execution_count": 86,
      "outputs": [
        {
          "output_type": "stream",
          "name": "stdout",
          "text": [
            "R5:[-18 -80]\n",
            "R6:[[-24]\n",
            " [  3]]\n"
          ]
        }
      ]
    },
    {
      "cell_type": "code",
      "source": [
        "R7 = A * B                    #This is the explicit method, \n",
        "print(\"R7:{}\".format(R7))     #as Python does a value-reference in order \n",
        "R8 = C * D                    #to determine that these variables require array operations.\n",
        "print(\"R8:{}\".format(R8))"
      ],
      "metadata": {
        "colab": {
          "base_uri": "https://localhost:8080/"
        },
        "id": "yx2yBW5fdozw",
        "outputId": "59fbcca0-4bc9-4b62-eaa5-68faf6a9f323"
      },
      "execution_count": 87,
      "outputs": [
        {
          "output_type": "stream",
          "name": "stdout",
          "text": [
            "R7:[-18 -80]\n",
            "R8:[[-24]\n",
            " [  3]]\n"
          ]
        }
      ]
    },
    {
      "cell_type": "markdown",
      "source": [
        "###Division"
      ],
      "metadata": {
        "id": "QE3bW7Zh7Iqk"
      }
    },
    {
      "cell_type": "code",
      "source": [
        "R9 = np.divide(A, B)        #This is the method that use the numpy library.\n",
        "print(\"R9:{}\".format(R9))\n",
        "R10 = np.divide(C, D)\n",
        "print(\"R10:{}\".format(R10))"
      ],
      "metadata": {
        "colab": {
          "base_uri": "https://localhost:8080/"
        },
        "id": "jWhbx5zid57_",
        "outputId": "28da21b6-837e-406f-c8b0-8a7ff439e85e"
      },
      "execution_count": 88,
      "outputs": [
        {
          "output_type": "stream",
          "name": "stdout",
          "text": [
            "R9:[-0.22222222 -0.8       ]\n",
            "R10:[[-1.5]\n",
            " [ 3. ]]\n"
          ]
        }
      ]
    },
    {
      "cell_type": "code",
      "source": [
        "R11 = A/B                   #This is the explicit method,\n",
        "print(\"R11:{}\".format(R11)) #as Python does a value-reference in order \n",
        "R12 = C/D                   #to determine that these variables require array operations.\n",
        "print(\"R12:{}\".format(R12))"
      ],
      "metadata": {
        "id": "g11Lj-kM7alD",
        "colab": {
          "base_uri": "https://localhost:8080/"
        },
        "outputId": "8646ba35-cf26-4d60-ce41-bafb14834ef5"
      },
      "execution_count": 89,
      "outputs": [
        {
          "output_type": "stream",
          "name": "stdout",
          "text": [
            "R11:[-0.22222222 -0.8       ]\n",
            "R12:[[-1.5]\n",
            " [ 3. ]]\n"
          ]
        }
      ]
    },
    {
      "cell_type": "markdown",
      "source": [
        "###SCALING\n",
        "#####Implementation of scaling with two vectors."
      ],
      "metadata": {
        "id": "Gx1D9Red7bZ0"
      }
    },
    {
      "cell_type": "code",
      "source": [
        "S1 = (4 * A) + B          #This is the explicit method,\n",
        "print(\"S1:{}\".format(S1)) #as Python does a value-reference in order \n",
        "                          #to determine that these variables require array operations.\n",
        "\n",
        "S2 = np.add(np.multiply(4,A),B) #this is the functional method usisng the numpy library\n",
        "print(\"S2:{}\".format(S2))"
      ],
      "metadata": {
        "id": "n3EE1KB27u99",
        "colab": {
          "base_uri": "https://localhost:8080/"
        },
        "outputId": "33f3e559-894c-4dd1-e932-ea8ef7ca06b5"
      },
      "execution_count": 90,
      "outputs": [
        {
          "output_type": "stream",
          "name": "stdout",
          "text": [
            "S1:[ -1 -22]\n",
            "S2:[ -1 -22]\n"
          ]
        }
      ]
    },
    {
      "cell_type": "markdown",
      "source": [
        "##MatPlotLib\n",
        "#####Plotting Three Vectors and show the Resultant Vector as a result.Use Head to Tail Method."
      ],
      "metadata": {
        "id": "9JKy3juF8ZxG"
      }
    },
    {
      "cell_type": "code",
      "source": [
        "#Three Vectors.\n",
        "E = np.array([4,-2])\n",
        "F = np.array([3,2])\n",
        "G = np.array([3,8])\n",
        "\n",
        "r = E+F #Vector C's new origin is the resultant Vectors E & F.\n",
        "R = E+F+G # Resultant Vectors E, F, & G.\n",
        "Magnitude = np.sqrt(np.sum(R**2)) # Magnitude of Vectors E, F, & G.\n",
        "Slope = R[1]/R[0] #Slope of Resultant Vectors E, F, & G.\n",
        "Angle = (np.arctan(Slope))*((180/np.pi)) #Angle of Resultant Vectors E, F, & G.\n",
        "\n",
        "#Creating Plot.\n",
        "fig, ax = plt.subplots()\n",
        "plt.title(\"Resultant Vector\\nMagnitude:{:.2f}\".format(Magnitude),)\n",
        "ax.set_xlim([-10,10])\n",
        "ax.set_ylim([-10,10])\n",
        "\n",
        "origin= [0,0]\n",
        "\n",
        "#Creating Quiver Plot.\n",
        "ax.quiver(origin[0],origin[1], E[0], E[1], angles='xy', scale_units='xy', scale=1, color='red') #The origin of Vector E is [0,0]\n",
        "ax.quiver(E[0], E[1], F[0], F[1], angles='xy', scale_units='xy', scale=1, color='green') #The origin of Vector F is Vector E\n",
        "ax.quiver(r[0],r[1], G[0], G[1], angles='xy', scale_units='xy', scale=1, color='blue') #The origin of Vector G is the resulant Vector E & F.\n",
        "ax.quiver(origin[0],origin[0], R[0], R[1], angles='xy', scale_units='xy', scale=1, color='black') #Plotting the Resultant Vector E, F, & G but the origin is [0,0] \n",
        "\n",
        "#Displaying quiver Plot.\n",
        "plt.grid()\n",
        "plt.show()\n",
        "\n",
        "print(\"Resultant:{}\".format(R))\n",
        "print(\"Magnitude:{:.2f}\".format(Magnitude))\n",
        "print(\"Slope:{}\".format(Slope))\n",
        "print(\"Angle:{:.2f}\".format(Angle))\n"
      ],
      "metadata": {
        "colab": {
          "base_uri": "https://localhost:8080/",
          "height": 365
        },
        "id": "qY30sj8rh73X",
        "outputId": "8f205f12-b65b-4a75-956b-d8fe01df6cf9"
      },
      "execution_count": 91,
      "outputs": [
        {
          "output_type": "display_data",
          "data": {
            "text/plain": [
              "<Figure size 432x288 with 1 Axes>"
            ],
            "image/png": "[encoded data removed]"
          },
          "metadata": {
            "needs_background": "light"
          }
        },
        {
          "output_type": "stream",
          "name": "stdout",
          "text": [
            "Resultant:[10  8]\n",
            "Magnitude:12.81\n",
            "Slope:0.8\n",
            "Angle:38.66\n"
          ]
        }
      ]
    }
  ]
}