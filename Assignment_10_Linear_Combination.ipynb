{
  "nbformat": 4,
  "nbformat_minor": 0,
  "metadata": {
    "colab": {
      "name": "Assignment 10- Linear Combination",
      "provenance": [],
      "collapsed_sections": [],
      "authorship_tag": "ABX9TyNjpVGaGS3ZKicbHhlI+HAG",
      "include_colab_link": true
    },
    "kernelspec": {
      "name": "python3",
      "display_name": "Python 3"
    },
    "language_info": {
      "name": "python"
    }
  },
  "cells": [
    {
      "cell_type": "markdown",
      "metadata": {
        "id": "view-in-github",
        "colab_type": "text"
      },
      "source": [
        "<a href=\"https://colab.research.google.com/github/jackielyn-cabug/Linear-Algebra_ChE_2nd-Sem-2021-2022/blob/main/Assignment_10_Linear_Combination.ipynb\" target=\"_parent\"><img src=\"https://colab.research.google.com/assets/colab-badge.svg\" alt=\"Open In Colab\"/></a>"
      ]
    },
    {
      "cell_type": "markdown",
      "source": [
        "## TASK 1"
      ],
      "metadata": {
        "id": "Y0WfQSQN5y9o"
      }
    },
    {
      "cell_type": "code",
      "source": [
        "#Import libraries\n",
        "#'np' here is short-hand name of the library (numpy)\n",
        "import numpy as np\n",
        "import matplotlib.pyplot as plt\n",
        "%matplotlib inline"
      ],
      "metadata": {
        "id": "ElAewEyJxE94"
      },
      "execution_count": 1,
      "outputs": []
    },
    {
      "cell_type": "markdown",
      "source": [
        "SPAN OF SINGLE VECTOR WITH DIFFERENT SCALAR VALUES"
      ],
      "metadata": {
        "id": "xv3uksbwVk5Q"
      }
    },
    {
      "cell_type": "markdown",
      "source": [
        "$$ AdU = A\\cdot \\begin{bmatrix} 1&2 \\\\\\end{bmatrix} $$\n"
      ],
      "metadata": {
        "id": "Mwnp5pJEN26j"
      }
    },
    {
      "cell_type": "code",
      "source": [
        "Vector_AdU = np.array([-1, 2]) #Vector.\n",
        "\n",
        "A = np.arange(-5,5,0.5) #scalar values with interval of 0.5\n",
        "\n",
        "#Creating Plot.\n",
        "fig, ax = plt.subplots()\n",
        "ax.set_xlim(-10,10) #x-axis limit\n",
        "ax.set_ylim(-10,10) # y-axis limit\n",
        "\n",
        "ax.scatter(A*Vector_AdU[0],A*Vector_AdU[1])\n",
        "ax.axhline(y=0, color='k')\n",
        "ax.axvline(x=0, color='k')\n",
        "\n",
        "#Displaying Plot.\n",
        "ax.grid()\n",
        "plt.show()"
      ],
      "metadata": {
        "colab": {
          "base_uri": "https://localhost:8080/",
          "height": 269
        },
        "id": "xn6SwDYYwPMQ",
        "outputId": "ba0fc70d-e223-4eca-d378-6ceaee0f5246"
      },
      "execution_count": 54,
      "outputs": [
        {
          "output_type": "display_data",
          "data": {
            "text/plain": [
              "<Figure size 432x288 with 1 Axes>"
            ],
            "image/png": "[encoded data removed]"
          },
          "metadata": {
            "needs_background": "light"
          }
        }
      ]
    },
    {
      "cell_type": "markdown",
      "source": [
        "$$ Falcon = B\\cdot \\begin{bmatrix} 9&5 \\\\\\end{bmatrix} $$"
      ],
      "metadata": {
        "id": "faM8bUU1Si4G"
      }
    },
    {
      "cell_type": "code",
      "source": [
        "Vector_Falcon = np.array([9, -5]) #Vector.\n",
        "\n",
        "B = np.arange(-10,10,0.10) #scalar values with interval of 0.10\n",
        "\n",
        "#Creating Plot.\n",
        "fig, ax = plt.subplots()\n",
        "ax.set_xlim(-10,10) #x-axis limit\n",
        "ax.set_ylim(-10,10) # y-axis limit\n",
        "\n",
        "ax.scatter(B*Vector_Falcon[0],B*Vector_Falcon[1])\n",
        "ax.axhline(y=0, color='k')\n",
        "ax.axvline(x=0, color='k')\n",
        "\n",
        "#Displaying Plot.\n",
        "ax.grid()\n",
        "plt.show()"
      ],
      "metadata": {
        "colab": {
          "base_uri": "https://localhost:8080/",
          "height": 269
        },
        "id": "2gWa8FNXLolp",
        "outputId": "b4b58841-0db6-42ff-d87e-321b1e75f3a9"
      },
      "execution_count": 31,
      "outputs": [
        {
          "output_type": "display_data",
          "data": {
            "text/plain": [
              "<Figure size 432x288 with 1 Axes>"
            ],
            "image/png": "[encoded data removed]"
          },
          "metadata": {
            "needs_background": "light"
          }
        }
      ]
    },
    {
      "cell_type": "markdown",
      "source": [
        "SPAN OF A LINEAR COMBINATION OF VECTOR WITH DIFFERENT SCALAR VALUES"
      ],
      "metadata": {
        "id": "Xky6RfUWaU5c"
      }
    },
    {
      "cell_type": "markdown",
      "source": [
        "$$ Linear = A\\cdot \\begin{bmatrix} 1&9 \\\\\\end{bmatrix} $$\n",
        "$$ Falcon = A\\cdot \\begin{bmatrix} 3&-2 \\\\\\end{bmatrix} $$"
      ],
      "metadata": {
        "id": "wxSpM92GU0la"
      }
    },
    {
      "cell_type": "code",
      "source": [
        "#Vectors.\n",
        "Vector_Linear = np.array([1,9])\n",
        "Vector_Algebra = np.array([3,-2])\n",
        "\n",
        "C = np.arange(-5,5,1) #scalar values with interval of 0.10\n",
        "##Creating Plot.\n",
        "fig, ax = plt.subplots()\n",
        "C1, C2 = np.meshgrid(C,C)\n",
        "\n",
        "Resultant_Vector = Vector_Linear + Vector_Algebra #Resultant Vectors \n",
        "\n",
        "#2-D Coordinate system.\n",
        "Span_Ax = C1*Vector_Linear[0] + C2*Vector_Algebra[0]\n",
        "Span_Ay = C1*Vector_Linear[1] + C2*Vector_Algebra[1]\n",
        " \n",
        "#Line span of the Vectors\n",
        "ax.scatter(C*Vector_Linear[0],C*Vector_Linear[1])\n",
        "ax.scatter(C*Vector_Algebra[0],C*Vector_Algebra[1])\n",
        "ax.scatter(Span_Ax,Span_Ay, s=6, alpha=1)\n",
        "\n",
        "ax.axhline(y=0, color='k')\n",
        "ax.axvline(x=0, color='k')\n",
        "#Displaying Plot.\n",
        "ax.grid()\n",
        "plt.show()"
      ],
      "metadata": {
        "id": "27dXU3Jt2HjU",
        "colab": {
          "base_uri": "https://localhost:8080/",
          "height": 265
        },
        "outputId": "f37b29af-ab67-4c03-a6ca-8262fa81ad74"
      },
      "execution_count": 56,
      "outputs": [
        {
          "output_type": "display_data",
          "data": {
            "text/plain": [
              "<Figure size 432x288 with 1 Axes>"
            ],
            "image/png": "[encoded data removed]"
          },
          "metadata": {
            "needs_background": "light"
          }
        }
      ]
    },
    {
      "cell_type": "markdown",
      "source": [
        "$$ Jan = A\\cdot \\begin{bmatrix} 1&3 \\\\\\end{bmatrix} $$\n",
        "$$ Feb = A\\cdot \\begin{bmatrix} 2&-3 \\\\\\end{bmatrix} $$"
      ],
      "metadata": {
        "id": "X6Wy9Jj2VLT8"
      }
    },
    {
      "cell_type": "code",
      "source": [
        "#Vectors.\n",
        "Vector_Jan = np.array([1,3])\n",
        "Vector_Feb = np.array([2,-3])\n",
        "\n",
        "D = np.arange(-15,5,1) #scalar values with interval of 1\n",
        "##Creating Plot.\n",
        "fig, ax = plt.subplots()\n",
        "C1, C2 = np.meshgrid(D,D)\n",
        "\n",
        "Resultant_Vector = Vector_Jan + Vector_Feb #Resultant Vectors \n",
        "#2-D Coordinate system.\n",
        "Span_Ax = C1*Vector_Jan[0] + C2*Vector_Feb[0]\n",
        "Span_Ay = C1*Vector_Jan[1] + Vector_Feb[1]\n",
        "#Line span of the Vectors\n",
        "ax.scatter(D*Vector_Feb[0],D*Vector_Feb[1])\n",
        "ax.scatter(D*Vector_Jan[0],D*Vector_Jan[1])\n",
        "ax.scatter(Span_Ax,Span_Ay, s=6, alpha=1)\n",
        "\n",
        "ax.axhline(y=0, color='k')\n",
        "ax.axvline(x=0, color='k')\n",
        "#Displaying Plot.\n",
        "ax.grid()\n",
        "ax.grid()\n",
        "plt.show()"
      ],
      "metadata": {
        "colab": {
          "base_uri": "https://localhost:8080/",
          "height": 265
        },
        "id": "VKXlE55KNWYk",
        "outputId": "8b680f93-cee8-4d0c-bdd9-8a8fa7871e50"
      },
      "execution_count": 55,
      "outputs": [
        {
          "output_type": "display_data",
          "data": {
            "text/plain": [
              "<Figure size 432x288 with 1 Axes>"
            ],
            "image/png": "[encoded data removed]"
          },
          "metadata": {
            "needs_background": "light"
          }
        }
      ]
    }
  ]
}